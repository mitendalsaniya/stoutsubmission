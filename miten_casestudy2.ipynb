{
  "nbformat": 4,
  "nbformat_minor": 0,
  "metadata": {
    "kernelspec": {
      "display_name": "Python 3",
      "language": "python",
      "name": "python3"
    },
    "language_info": {
      "codemirror_mode": {
        "name": "ipython",
        "version": 3
      },
      "file_extension": ".py",
      "mimetype": "text/x-python",
      "name": "python",
      "nbconvert_exporter": "python",
      "pygments_lexer": "ipython3",
      "version": "3.8.5"
    },
    "colab": {
      "name": "CaseStudy2.ipynb",
      "provenance": [],
      "collapsed_sections": []
    }
  },
  "cells": [
    {
      "cell_type": "markdown",
      "metadata": {
        "id": "rPiLvZPwKl1E"
      },
      "source": [
        "# Miten Dalsaniya\n"
      ]
    },
    {
      "cell_type": "markdown",
      "metadata": {
        "id": "LgW7SOWxKl1G"
      },
      "source": [
        "# Case Study 2"
      ]
    },
    {
      "cell_type": "markdown",
      "metadata": {
        "id": "EjbnPx9_Kl1G"
      },
      "source": [
        "# Importing Libraries and dataset"
      ]
    },
    {
      "cell_type": "code",
      "metadata": {
        "id": "ND_DZr3OKl1H"
      },
      "source": [
        "import pandas as pd\n",
        "import seaborn as sns\n",
        "import matplotlib.pyplot as plt\n",
        "import numpy as np"
      ],
      "execution_count": 1,
      "outputs": []
    },
    {
      "cell_type": "code",
      "metadata": {
        "id": "xX8wfzvjKl1I"
      },
      "source": [
        "df=pd.read_csv(r\"casestudy.csv\")"
      ],
      "execution_count": 2,
      "outputs": []
    },
    {
      "cell_type": "code",
      "metadata": {
        "scrolled": true,
        "colab": {
          "base_uri": "https://localhost:8080/",
          "height": 204
        },
        "id": "l6airUK8Kl1I",
        "outputId": "ec53e93b-0fdf-46fa-ed17-1d4750de1a67"
      },
      "source": [
        "df.head()"
      ],
      "execution_count": 3,
      "outputs": [
        {
          "output_type": "execute_result",
          "data": {
            "text/html": [
              "<div>\n",
              "<style scoped>\n",
              "    .dataframe tbody tr th:only-of-type {\n",
              "        vertical-align: middle;\n",
              "    }\n",
              "\n",
              "    .dataframe tbody tr th {\n",
              "        vertical-align: top;\n",
              "    }\n",
              "\n",
              "    .dataframe thead th {\n",
              "        text-align: right;\n",
              "    }\n",
              "</style>\n",
              "<table border=\"1\" class=\"dataframe\">\n",
              "  <thead>\n",
              "    <tr style=\"text-align: right;\">\n",
              "      <th></th>\n",
              "      <th>Unnamed: 0</th>\n",
              "      <th>customer_email</th>\n",
              "      <th>net_revenue</th>\n",
              "      <th>year</th>\n",
              "    </tr>\n",
              "  </thead>\n",
              "  <tbody>\n",
              "    <tr>\n",
              "      <th>0</th>\n",
              "      <td>0</td>\n",
              "      <td>nhknapwsbx@gmail.com</td>\n",
              "      <td>249.92</td>\n",
              "      <td>2015</td>\n",
              "    </tr>\n",
              "    <tr>\n",
              "      <th>1</th>\n",
              "      <td>1</td>\n",
              "      <td>joiuzbvcpn@gmail.com</td>\n",
              "      <td>87.61</td>\n",
              "      <td>2015</td>\n",
              "    </tr>\n",
              "    <tr>\n",
              "      <th>2</th>\n",
              "      <td>2</td>\n",
              "      <td>ukkjctepxt@gmail.com</td>\n",
              "      <td>168.38</td>\n",
              "      <td>2015</td>\n",
              "    </tr>\n",
              "    <tr>\n",
              "      <th>3</th>\n",
              "      <td>3</td>\n",
              "      <td>gykatilzrt@gmail.com</td>\n",
              "      <td>62.40</td>\n",
              "      <td>2015</td>\n",
              "    </tr>\n",
              "    <tr>\n",
              "      <th>4</th>\n",
              "      <td>4</td>\n",
              "      <td>mmsgsrtxah@gmail.com</td>\n",
              "      <td>43.08</td>\n",
              "      <td>2015</td>\n",
              "    </tr>\n",
              "  </tbody>\n",
              "</table>\n",
              "</div>"
            ],
            "text/plain": [
              "   Unnamed: 0         customer_email  net_revenue  year\n",
              "0           0   nhknapwsbx@gmail.com       249.92  2015\n",
              "1           1   joiuzbvcpn@gmail.com        87.61  2015\n",
              "2           2   ukkjctepxt@gmail.com       168.38  2015\n",
              "3           3   gykatilzrt@gmail.com        62.40  2015\n",
              "4           4   mmsgsrtxah@gmail.com        43.08  2015"
            ]
          },
          "metadata": {},
          "execution_count": 3
        }
      ]
    },
    {
      "cell_type": "markdown",
      "metadata": {
        "id": "85JEr8uhKl1J"
      },
      "source": [
        "# For Year 2017"
      ]
    },
    {
      "cell_type": "markdown",
      "metadata": {
        "id": "miOsSn-6Kl1J"
      },
      "source": [
        "<b>Total revenue for year 2017 = 31417495.03"
      ]
    },
    {
      "cell_type": "code",
      "metadata": {
        "colab": {
          "base_uri": "https://localhost:8080/"
        },
        "id": "eH9msuA_Kl1J",
        "outputId": "7b21a2b9-736f-41d0-cfc5-4024b31d0b09"
      },
      "source": [
        "rev2017=round(sum(df[df['year']==2017]['net_revenue']),2)\n",
        "rev2017"
      ],
      "execution_count": 9,
      "outputs": [
        {
          "output_type": "execute_result",
          "data": {
            "text/plain": [
              "31417495.03"
            ]
          },
          "metadata": {},
          "execution_count": 9
        }
      ]
    },
    {
      "cell_type": "markdown",
      "metadata": {
        "id": "GhZpuHEsKl1K"
      },
      "source": [
        "<b>New customer revenue for year 2017 = 28676607.64"
      ]
    },
    {
      "cell_type": "code",
      "metadata": {
        "colab": {
          "base_uri": "https://localhost:8080/"
        },
        "id": "nQNkkCMvKl1K",
        "outputId": "09b3c3c4-257c-432f-c232-02974ec2fa56"
      },
      "source": [
        "all2017=list(df[df['year']==2017]['customer_email'])\n",
        "prev2017=list(df[df['year']<2017]['customer_email'])\n",
        "new2017=set(all2017)-set(prev2017)\n",
        "new2017=list(new2017)\n",
        "revNew2017=round(sum(df.loc[(df['year']==2017)&(df['customer_email'].isin(new2017))]['net_revenue']),2)\n",
        "revNew2017"
      ],
      "execution_count": 10,
      "outputs": [
        {
          "output_type": "execute_result",
          "data": {
            "text/plain": [
              "28676607.64"
            ]
          },
          "metadata": {},
          "execution_count": 10
        }
      ]
    },
    {
      "cell_type": "markdown",
      "metadata": {
        "id": "RydYSodpKl1K"
      },
      "source": [
        "<b>Existing Customer Growth for year 2017 = -4744565.19<br>\n",
        "    There is a decline in revenue from existing customer"
      ]
    },
    {
      "cell_type": "code",
      "metadata": {
        "colab": {
          "base_uri": "https://localhost:8080/"
        },
        "id": "Hwqt7EJuKl1K",
        "outputId": "30486c50-0bf7-4ffa-8787-af45ffa80059"
      },
      "source": [
        "revEx2017=round(rev2017-revNew2017,2)\n",
        "revEx2017\n",
        "all2016=list(df[df['year']==2016]['customer_email'])\n",
        "prev2016=list(df[df['year']<2016]['customer_email'])\n",
        "new2016=set(all2016)-set(prev2016)\n",
        "new2016=list(new2016)\n",
        "revNew2016=round(sum(df.loc[(df['year']==2016)&(df['customer_email'].isin(new2016))]['net_revenue']),2)\n",
        "revNew2016\n",
        "rev2016=round(sum(df[df['year']==2016]['net_revenue']),2)\n",
        "revEx2016=round(rev2016-revNew2016,2)\n",
        "round(revEx2017-revEx2016,2)"
      ],
      "execution_count": 11,
      "outputs": [
        {
          "output_type": "execute_result",
          "data": {
            "text/plain": [
              "-4744565.19"
            ]
          },
          "metadata": {},
          "execution_count": 11
        }
      ]
    },
    {
      "cell_type": "markdown",
      "metadata": {
        "id": "slh9NF5tKl1L"
      },
      "source": [
        "<b>Revenue lost from attrition = 23110294.94"
      ]
    },
    {
      "cell_type": "markdown",
      "metadata": {
        "id": "VSzWVnfmKl1L"
      },
      "source": [
        "Assumption -<br>\n",
        "eg. There are 100 customers in 2015, 80 of them carryforward to 2016, 20 of them opt out the service, 30 new customers join the service in 2016. The loss of revenue due to attrition will be the loss of revenue due to the customers who are quitting(20 customers in this case)."
      ]
    },
    {
      "cell_type": "code",
      "metadata": {
        "colab": {
          "base_uri": "https://localhost:8080/"
        },
        "id": "e0NbSrDcKl1L",
        "outputId": "50048f7b-d121-42de-cb6a-b197b74e0deb"
      },
      "source": [
        "lost2017=list(set(all2016)-set(all2017))\n",
        "revLost2017=round(sum(df.loc[(df['year']==2016)&(df['customer_email'].isin(lost2017))]['net_revenue']),2)\n",
        "revLost2017"
      ],
      "execution_count": 12,
      "outputs": [
        {
          "output_type": "execute_result",
          "data": {
            "text/plain": [
              "23110294.94"
            ]
          },
          "metadata": {},
          "execution_count": 12
        }
      ]
    },
    {
      "cell_type": "markdown",
      "metadata": {
        "id": "E-BHJ8HuKl1M"
      },
      "source": [
        "<b>Existing Customer Revenue Current Year(2017) =2740887.39"
      ]
    },
    {
      "cell_type": "code",
      "metadata": {
        "colab": {
          "base_uri": "https://localhost:8080/"
        },
        "id": "1uQ3B2WaKl1M",
        "outputId": "68c34e69-5134-4fdd-af0d-4784da6d0ce0"
      },
      "source": [
        "revEx2017"
      ],
      "execution_count": 13,
      "outputs": [
        {
          "output_type": "execute_result",
          "data": {
            "text/plain": [
              "2740887.39"
            ]
          },
          "metadata": {},
          "execution_count": 13
        }
      ]
    },
    {
      "cell_type": "markdown",
      "metadata": {
        "id": "8fnJ9EE6Kl1M"
      },
      "source": [
        "<b>Existing Customer Revenue Prior Year(2016)=7485452.58"
      ]
    },
    {
      "cell_type": "code",
      "metadata": {
        "colab": {
          "base_uri": "https://localhost:8080/"
        },
        "id": "pcLg7oObKl1M",
        "outputId": "5e5785ac-8977-485e-81ac-8dc0269f3550"
      },
      "source": [
        "revEx2016"
      ],
      "execution_count": 14,
      "outputs": [
        {
          "output_type": "execute_result",
          "data": {
            "text/plain": [
              "7485452.58"
            ]
          },
          "metadata": {},
          "execution_count": 14
        }
      ]
    },
    {
      "cell_type": "markdown",
      "metadata": {
        "id": "1zUmAdHuKl1M"
      },
      "source": [
        "<b>Total Customers Current Year(2017)=249987"
      ]
    },
    {
      "cell_type": "code",
      "metadata": {
        "colab": {
          "base_uri": "https://localhost:8080/"
        },
        "id": "phEXp1dyKl1N",
        "outputId": "8542bf70-3d78-4978-aad9-4001b520134f"
      },
      "source": [
        "len(set(list(df[df['year']==2017]['customer_email'])))"
      ],
      "execution_count": 15,
      "outputs": [
        {
          "output_type": "execute_result",
          "data": {
            "text/plain": [
              "249987"
            ]
          },
          "metadata": {},
          "execution_count": 15
        }
      ]
    },
    {
      "cell_type": "markdown",
      "metadata": {
        "id": "VCnd2mm6Kl1N"
      },
      "source": [
        "<b>Total Customers Previous Year(2016)=204646"
      ]
    },
    {
      "cell_type": "code",
      "metadata": {
        "colab": {
          "base_uri": "https://localhost:8080/"
        },
        "id": "tkpCxS5AKl1N",
        "outputId": "e97afafc-0756-46ae-9300-f82ce2bb71c0"
      },
      "source": [
        "len(set(list(df[df['year']==2016]['customer_email'])))"
      ],
      "execution_count": 16,
      "outputs": [
        {
          "output_type": "execute_result",
          "data": {
            "text/plain": [
              "204646"
            ]
          },
          "metadata": {},
          "execution_count": 16
        }
      ]
    },
    {
      "cell_type": "markdown",
      "metadata": {
        "id": "O82cGx0lKl1O"
      },
      "source": [
        "<b>New Customers(2017)=228262"
      ]
    },
    {
      "cell_type": "code",
      "metadata": {
        "colab": {
          "base_uri": "https://localhost:8080/"
        },
        "id": "GC30M3xAKl1O",
        "outputId": "669fe2e3-e6d7-4895-acfe-9ac76a8d52ba"
      },
      "source": [
        "len(new2017)"
      ],
      "execution_count": 17,
      "outputs": [
        {
          "output_type": "execute_result",
          "data": {
            "text/plain": [
              "228262"
            ]
          },
          "metadata": {},
          "execution_count": 17
        }
      ]
    },
    {
      "cell_type": "markdown",
      "metadata": {
        "id": "8I6-H654Kl1O"
      },
      "source": [
        "<b>Lost Customers(2017)=183687"
      ]
    },
    {
      "cell_type": "code",
      "metadata": {
        "colab": {
          "base_uri": "https://localhost:8080/"
        },
        "id": "pEL4ygD9Kl1O",
        "outputId": "42ed3dfb-30b3-4227-d7d4-d01a625af6ae"
      },
      "source": [
        "len(list(set(all2016)-set(all2017)))\n"
      ],
      "execution_count": 18,
      "outputs": [
        {
          "output_type": "execute_result",
          "data": {
            "text/plain": [
              "183687"
            ]
          },
          "metadata": {},
          "execution_count": 18
        }
      ]
    },
    {
      "cell_type": "markdown",
      "metadata": {
        "id": "wiUjpDzFKl1O"
      },
      "source": [
        "# Insights 2016 "
      ]
    },
    {
      "cell_type": "markdown",
      "metadata": {
        "id": "vSZ4sfFaKl1O"
      },
      "source": [
        "<b>Total revenue for year 2016=25730943.59"
      ]
    },
    {
      "cell_type": "code",
      "metadata": {
        "id": "nBjaAFfEKl1O",
        "outputId": "0bf538f6-f18c-4b4b-d5bb-38ce43637d7c"
      },
      "source": [
        "rev2016"
      ],
      "execution_count": null,
      "outputs": [
        {
          "data": {
            "text/plain": [
              "25730943.59"
            ]
          },
          "execution_count": 14,
          "metadata": {},
          "output_type": "execute_result"
        }
      ]
    },
    {
      "cell_type": "markdown",
      "metadata": {
        "id": "Og74OVizKl1O"
      },
      "source": [
        "<b>New Customer Revenue for year 2016=18245491.01"
      ]
    },
    {
      "cell_type": "code",
      "metadata": {
        "id": "zr0FRCNXKl1P",
        "outputId": "6380e055-f8f2-42dd-8c65-a6f5e5f4acdc"
      },
      "source": [
        "revNew2016"
      ],
      "execution_count": null,
      "outputs": [
        {
          "data": {
            "text/plain": [
              "18245491.01"
            ]
          },
          "execution_count": 15,
          "metadata": {},
          "output_type": "execute_result"
        }
      ]
    },
    {
      "cell_type": "markdown",
      "metadata": {
        "id": "E3sZnSxPKl1P"
      },
      "source": [
        "<b>Existing Customer Growth for year 2016"
      ]
    },
    {
      "cell_type": "markdown",
      "metadata": {
        "id": "9hr2doXlKl1P"
      },
      "source": [
        "Insufficient data, to calculate 2016 existing customer growth, one would need a list of existing customers in 2015.\n",
        "To get the existing customers in 2015, we would need data for 2014 and prior, which falls out of the scope of the dataset"
      ]
    },
    {
      "cell_type": "markdown",
      "metadata": {
        "id": "IXw-3t0UKl1P"
      },
      "source": [
        "<b>Revenue lost from attrition=21571632.07"
      ]
    },
    {
      "cell_type": "markdown",
      "metadata": {
        "id": "Ao7yADphKl1P"
      },
      "source": [
        "Assumption -<br>\n",
        "eg. There are 100 customers in 2015, 80 of them carryforward to 2016, 20 of them opt out the service, 30 new customers join the service in 2016. The loss of revenue due to attrition will be the loss of revenue due attrition will be the loss of revenue due to the customers who are quitting(20 customers in this case)."
      ]
    },
    {
      "cell_type": "code",
      "metadata": {
        "id": "3RFgSq8LKl1Q",
        "outputId": "3fcc0b5f-67f5-44ef-93af-159d8ac6ab72"
      },
      "source": [
        "all2015=list(df[df['year']==2015]['customer_email'])\n",
        "lost2016=list(set(all2015)-set(all2016))\n",
        "revLost2016=round(sum(df.loc[(df['year']==2015)&(df['customer_email'].isin(lost2016))]['net_revenue']),2)\n",
        "revLost2016"
      ],
      "execution_count": null,
      "outputs": [
        {
          "data": {
            "text/plain": [
              "21571632.07"
            ]
          },
          "execution_count": 16,
          "metadata": {},
          "output_type": "execute_result"
        }
      ]
    },
    {
      "cell_type": "markdown",
      "metadata": {
        "id": "qjlmG_S-Kl1Q"
      },
      "source": [
        "<b>Existing Customer Revenue for current year(2016)=7485452.58"
      ]
    },
    {
      "cell_type": "code",
      "metadata": {
        "id": "Sf-X3VvfKl1Q",
        "outputId": "1ce3891e-c1e4-44cb-e291-2f1a4f03a459"
      },
      "source": [
        "revEx2016"
      ],
      "execution_count": null,
      "outputs": [
        {
          "data": {
            "text/plain": [
              "7485452.58"
            ]
          },
          "execution_count": 17,
          "metadata": {},
          "output_type": "execute_result"
        }
      ]
    },
    {
      "cell_type": "markdown",
      "metadata": {
        "id": "WE06_p5kKl1Q"
      },
      "source": [
        "<b>Existing Customer Revenue for Prior Year(2015)"
      ]
    },
    {
      "cell_type": "markdown",
      "metadata": {
        "id": "6g5XIYpfKl1Q"
      },
      "source": [
        "Insufficient data, to calculate existing customer revenue for 2015, one would need to get the existing customers in 2015, for which we would need data for 2014 and prior, which falls out of the scope of the dataset"
      ]
    },
    {
      "cell_type": "markdown",
      "metadata": {
        "id": "3RS0AOuLKl1Q"
      },
      "source": [
        "<b>Total Customers Current Year(2016)=204646"
      ]
    },
    {
      "cell_type": "code",
      "metadata": {
        "id": "aI9penQ7Kl1Q",
        "outputId": "b664fd0a-96f0-40c0-eece-79ceb94483bd"
      },
      "source": [
        "len(set(list(df[df['year']==2016]['customer_email'])))"
      ],
      "execution_count": null,
      "outputs": [
        {
          "data": {
            "text/plain": [
              "204646"
            ]
          },
          "execution_count": 18,
          "metadata": {},
          "output_type": "execute_result"
        }
      ]
    },
    {
      "cell_type": "markdown",
      "metadata": {
        "id": "LhljScRwKl1R"
      },
      "source": [
        "<b>Total Customers Previous Year=231294"
      ]
    },
    {
      "cell_type": "code",
      "metadata": {
        "id": "mHHg-VMWKl1R",
        "outputId": "c6d976ef-690d-4792-9db9-5d2f5a7ff4a1"
      },
      "source": [
        "len(set(list(df[df['year']==2015]['customer_email'])))"
      ],
      "execution_count": null,
      "outputs": [
        {
          "data": {
            "text/plain": [
              "231294"
            ]
          },
          "execution_count": 19,
          "metadata": {},
          "output_type": "execute_result"
        }
      ]
    },
    {
      "cell_type": "markdown",
      "metadata": {
        "id": "Fur1uxRKKl1R"
      },
      "source": [
        "<b>New Customers=145062"
      ]
    },
    {
      "cell_type": "code",
      "metadata": {
        "id": "MpKbLC6vKl1R",
        "outputId": "91616288-a68a-49f6-dead-56567276d848"
      },
      "source": [
        "len(new2016)"
      ],
      "execution_count": null,
      "outputs": [
        {
          "data": {
            "text/plain": [
              "145062"
            ]
          },
          "execution_count": 20,
          "metadata": {},
          "output_type": "execute_result"
        }
      ]
    },
    {
      "cell_type": "markdown",
      "metadata": {
        "id": "HPIDvu1uKl1R"
      },
      "source": [
        "<b>Lost Customers(2016)=171710"
      ]
    },
    {
      "cell_type": "code",
      "metadata": {
        "id": "ND3tbIqWKl1R",
        "outputId": "682df503-3bde-4579-ee8b-1751aedeeaed"
      },
      "source": [
        "all2015=list(df[df['year']==2015]['customer_email'])\n",
        "len(list(set(all2015)-set(all2016)))"
      ],
      "execution_count": null,
      "outputs": [
        {
          "data": {
            "text/plain": [
              "171710"
            ]
          },
          "execution_count": 21,
          "metadata": {},
          "output_type": "execute_result"
        }
      ]
    },
    {
      "cell_type": "markdown",
      "metadata": {
        "id": "DnP5aXOzKl1R"
      },
      "source": [
        "# Insights 2015"
      ]
    },
    {
      "cell_type": "markdown",
      "metadata": {
        "id": "zX6tVMxaKl1R"
      },
      "source": [
        "<b>Total revenue for year 2015=29036749.19"
      ]
    },
    {
      "cell_type": "code",
      "metadata": {
        "colab": {
          "base_uri": "https://localhost:8080/"
        },
        "id": "k0WWtGA3Kl1R",
        "outputId": "64b237af-53a5-43c5-f823-2d92d16329fd"
      },
      "source": [
        "rev2015=round(sum(df[df['year']==2015]['net_revenue']),2)\n",
        "rev2015"
      ],
      "execution_count": 7,
      "outputs": [
        {
          "output_type": "execute_result",
          "data": {
            "text/plain": [
              "29036749.19"
            ]
          },
          "metadata": {},
          "execution_count": 7
        }
      ]
    },
    {
      "cell_type": "markdown",
      "metadata": {
        "id": "MzHp5QtpKl1R"
      },
      "source": [
        "<b>New Customer Revenue for the year 2015"
      ]
    },
    {
      "cell_type": "markdown",
      "metadata": {
        "id": "qz1WKB_qKl1S"
      },
      "source": [
        "Insufficient data, to calculate the revenue from new customers in 2015, we would need a list of new customers in 2015. To get the list of new customers in 2015, we will need access to data from 2014 and before, which falls out of the scope of the dataset."
      ]
    },
    {
      "cell_type": "markdown",
      "metadata": {
        "id": "DWdHhb5lKl1S"
      },
      "source": [
        "<b>Existing Customer Growth for the year 2015"
      ]
    },
    {
      "cell_type": "markdown",
      "metadata": {
        "id": "GuhFckAdKl1S"
      },
      "source": [
        "Insufficient data, to calculate the existing customer growth for the year 2015, we would need a list of existing customers in 2015. To get the list of existing customers in 2015, we will need access to data from 2014 and before, which falls out of the scope of the dataset."
      ]
    },
    {
      "cell_type": "markdown",
      "metadata": {
        "id": "GAMPCOndKl1S"
      },
      "source": [
        "<b>Revenue lost from attrition"
      ]
    },
    {
      "cell_type": "markdown",
      "metadata": {
        "id": "_798ctj0Kl1S"
      },
      "source": [
        "Insufficient data, to calculate the revenue loss due to attrition in 2015, we would need a list of lost customers in 2015. To get the list of lost customers in 2015, we will need access to data from 2014 and before, which falls out of the scope of the dataset."
      ]
    },
    {
      "cell_type": "markdown",
      "metadata": {
        "id": "BU55_Lq3Kl1S"
      },
      "source": [
        "<b>Existing Customer Revenue Current Year"
      ]
    },
    {
      "cell_type": "markdown",
      "metadata": {
        "id": "sEOuf_lgKl1S"
      },
      "source": [
        "Insufficient data, to calculate the existing customer revenue for the year 2015, we would need a list of existing customers in 2015. To get the list of existing customers in 2015, we will need access to data from 2014 and before, which falls out of the scope of the dataset."
      ]
    },
    {
      "cell_type": "markdown",
      "metadata": {
        "id": "G2ej049tKl1S"
      },
      "source": [
        "<b>Existing Customer Revenue Prior Year(2014)"
      ]
    },
    {
      "cell_type": "markdown",
      "metadata": {
        "id": "7hmoTq0eKl1S"
      },
      "source": [
        "No data available for 2014."
      ]
    },
    {
      "cell_type": "markdown",
      "metadata": {
        "id": "myGKg4XeKl1S"
      },
      "source": [
        "<b>Total Customers Current Year(2015)=231294"
      ]
    },
    {
      "cell_type": "code",
      "metadata": {
        "colab": {
          "base_uri": "https://localhost:8080/"
        },
        "id": "JX3uH00gKl1S",
        "outputId": "886d9cee-14de-4578-f1f5-16bccc297546"
      },
      "source": [
        "len(set(list(df[df['year']==2015]['customer_email'])))"
      ],
      "execution_count": 20,
      "outputs": [
        {
          "output_type": "execute_result",
          "data": {
            "text/plain": [
              "231294"
            ]
          },
          "metadata": {},
          "execution_count": 20
        }
      ]
    },
    {
      "cell_type": "markdown",
      "metadata": {
        "id": "hnAkgOEgKl1T"
      },
      "source": [
        "<b>Total Customers Previous Year"
      ]
    },
    {
      "cell_type": "markdown",
      "metadata": {
        "id": "576U12CgKl1T"
      },
      "source": [
        "No data available for 2014."
      ]
    },
    {
      "cell_type": "markdown",
      "metadata": {
        "id": "IKM60eR9Kl1T"
      },
      "source": [
        "<b>New Customers(2015)"
      ]
    },
    {
      "cell_type": "markdown",
      "metadata": {
        "id": "xJa2qtBSKl1T"
      },
      "source": [
        "Insufficient data, to calculate the number of new customers in 2015, we would need a list of new customers in 2015. To get the list of new customers in 2015, we will need access to data from 2014 and before, which falls out of the scope of the dataset."
      ]
    },
    {
      "cell_type": "markdown",
      "metadata": {
        "id": "XMVBUFqPKl1T"
      },
      "source": [
        "<b>Lost Customers(2015)"
      ]
    },
    {
      "cell_type": "markdown",
      "metadata": {
        "id": "kCUvzRayKl1T"
      },
      "source": [
        "Insufficient data, to calculate the number of lost customers in 2015, we would need a list of customers in 2014. To get the list of customers in 2014, we will need access to data from 2014 and before, which falls out of the scope of the dataset."
      ]
    },
    {
      "cell_type": "markdown",
      "metadata": {
        "id": "SYEoBxd3Kl1T"
      },
      "source": [
        "# Plots"
      ]
    },
    {
      "cell_type": "code",
      "metadata": {
        "colab": {
          "base_uri": "https://localhost:8080/",
          "height": 414
        },
        "id": "fBaPIqomKl1T",
        "outputId": "81e4e011-4ef0-4beb-ed5b-6252976b4822"
      },
      "source": [
        "temp=df.groupby(['year']).sum()['net_revenue'].reset_index()\n",
        "temp\n",
        "height=list(temp['net_revenue'])\n",
        "height\n",
        "bars=('2015','2016','2017')\n",
        "y_pos = np.arange(len(bars))\n",
        "plt.figure(figsize=(12, 6))\n",
        "plt.bar(y_pos, height,color='#99ccff',edgecolor='black')\n",
        "plt.xticks(y_pos, bars)\n",
        "plt.xlabel('Year',fontsize=16)\n",
        "plt.ylabel('Net Revenue,fontsize=16)\n",
        "plt.title('Yearly Revenue',fontsize=20)\n",
        "plt.show()\n"
      ],
      "execution_count": 21,
      "outputs": [
        {
          "output_type": "display_data",
          "data": {
            "image/png": "[encoded data removed]",
            "text/plain": [
              "<Figure size 864x432 with 1 Axes>"
            ]
          },
          "metadata": {
            "needs_background": "light"
          }
        }
      ]
    },
    {
      "cell_type": "markdown",
      "metadata": {
        "id": "QWPz-Rn7Kl1T"
      },
      "source": [
        "<b>Based on the yearly revenue, 2017 seems to be the best performing year, followed by 2015, and at last place 2016"
      ]
    },
    {
      "cell_type": "code",
      "metadata": {
        "colab": {
          "base_uri": "https://localhost:8080/",
          "height": 414
        },
        "id": "h6AK504kKl1T",
        "outputId": "cdc8ad01-dbce-498f-fb38-be363b195278"
      },
      "source": [
        "temp=df.groupby(['year']).count()['net_revenue'].reset_index()\n",
        "temp\n",
        "height=list(temp['net_revenue'])\n",
        "height\n",
        "bars=('2015','2016','2017')\n",
        "y_pos = np.arange(len(bars))\n",
        "plt.figure(figsize=(12, 6))\n",
        "plt.bar(y_pos, height,color='#99ccff',edgecolor='black')\n",
        "plt.xticks(y_pos, bars)\n",
        "plt.xlabel('Year',fontsize=16)\n",
        "plt.ylabel('Total Customer Count',fontsize=16)\n",
        "plt.title('Customer base per year',fontsize=20)\n",
        "plt.show()\n"
      ],
      "execution_count": 22,
      "outputs": [
        {
          "output_type": "display_data",
          "data": {
            "image/png": "[encoded data removed]",
            "text/plain": [
              "<Figure size 864x432 with 1 Axes>"
            ]
          },
          "metadata": {
            "needs_background": "light"
          }
        }
      ]
    },
    {
      "cell_type": "markdown",
      "metadata": {
        "id": "ExrJPC28Kl1T"
      },
      "source": [
        "<b> A similar trend as the yearly revenue, is observed in the total customer count per year. The best performing year is 2017, followed by 2015, and at last place 2016"
      ]
    },
    {
      "cell_type": "code",
      "metadata": {
        "colab": {
          "base_uri": "https://localhost:8080/",
          "height": 530
        },
        "id": "xMpi0VajKl1T",
        "outputId": "7d43f016-14c6-47bc-e8d8-112dc8d5ae9b"
      },
      "source": [
        "df.groupby(['year']).sum()\n",
        "top=df.groupby(\"customer_email\").sum().sort_values(\"net_revenue\",ascending=False).head(10)['net_revenue']\n",
        "top=pd.DataFrame(top).reset_index()\n",
        "top\n",
        "plt.figure(figsize=(12, 6))\n",
        "sns.barplot(x=top[\"customer_email\"], y=top[\"net_revenue\"], palette=\"rocket\")\n",
        "plt.xticks(rotation=80)\n",
        "\n",
        "plt.xlabel('Customers',fontsize=16)\n",
        "plt.ylabel('Net revenue over 3 years',fontsize=16)\n",
        "plt.title('Top 10 customers',fontsize=20)\n",
        "plt.show()"
      ],
      "execution_count": 23,
      "outputs": [
        {
          "output_type": "display_data",
          "data": {
            "image/png": "[encoded data removed]",
            "text/plain": [
              "<Figure size 864x432 with 1 Axes>"
            ]
          },
          "metadata": {
            "needs_background": "light"
          }
        }
      ]
    },
    {
      "cell_type": "markdown",
      "metadata": {
        "id": "wbIwDFSIKl1U"
      },
      "source": [
        "<b>The above chart shows the most profitable customers for all the years combined, based on revenue contributed by these customers"
      ]
    },
    {
      "cell_type": "code",
      "metadata": {
        "colab": {
          "base_uri": "https://localhost:8080/",
          "height": 427
        },
        "id": "DZn6_N5nKl1U",
        "outputId": "30ec187e-4e87-486e-f6fc-31a2e2fb040c"
      },
      "source": [
        "sns.set_theme(style=\"ticks\", palette=\"pastel\")\n",
        "\n",
        "# Load the example tips dataset\n",
        "plt.figure(figsize=(12, 6))\n",
        "# Draw a nested boxplot to show bills by day and time\n",
        "sns.boxplot(x=\"year\", y=\"net_revenue\",\n",
        "            palette=[\"b\",'g','m'],\n",
        "            data=df)\n",
        "sns.despine(offset=10, trim=True)\n",
        "plt.xlabel('Year',fontsize=16)\n",
        "plt.ylabel('Net revenue',fontsize=16)\n",
        "plt.title('Distribution of net revenue over years',fontsize=20)\n",
        "plt.show()"
      ],
      "execution_count": 24,
      "outputs": [
        {
          "output_type": "display_data",
          "data": {
            "image/png": "[encoded data removed]",
            "text/plain": [
              "<Figure size 864x432 with 1 Axes>"
            ]
          },
          "metadata": {}
        }
      ]
    },
    {
      "cell_type": "markdown",
      "metadata": {
        "id": "uYD8d-Z3Kl1U"
      },
      "source": [
        "<b>The distribution of net revenue across the years appear to be very similar, indicating a constant trend/performance over these years."
      ]
    },
    {
      "cell_type": "code",
      "metadata": {
        "id": "Jzi2PQFfKl1U"
      },
      "source": [
        ""
      ],
      "execution_count": 24,
      "outputs": []
    }
  ]
}